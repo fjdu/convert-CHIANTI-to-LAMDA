{
 "metadata": {
  "name": "",
  "signature": "sha256:e55a110f6d05c161769c2118909152d46639d4b57f6bab2d2b84de968ef13e1c"
 },
 "nbformat": 3,
 "nbformat_minor": 0,
 "worksheets": [
  {
   "cells": [
    {
     "cell_type": "code",
     "collapsed": false,
     "input": [
      "%pylab inline\n",
      "import os\n",
      "from astropy.io import fits\n",
      "import glob\n",
      "\n",
      "rc('font',**{'family':'serif',\n",
      "             'serif':['Palatino']})\n",
      "rc('text', **{'usetex': True})"
     ],
     "language": "python",
     "metadata": {},
     "outputs": [
      {
       "output_type": "stream",
       "stream": "stdout",
       "text": [
        "Populating the interactive namespace from numpy and matplotlib\n"
       ]
      }
     ],
     "prompt_number": 1
    },
    {
     "cell_type": "code",
     "collapsed": false,
     "input": [
      "execfile(\"/Users/fdu/Dropbox/myScripts/my_script.py\")\n",
      "execfile(\"/Users/fdu/Dropbox/myScripts/long_function_definitions.py\")\n",
      "mycm = make_my_colormap(c_list=[(0.0, (0.5, 0.0, 0.5)),\n",
      "                                (0.2, (0.0, 0.0, 1.0)),\n",
      "                                (0.4, (0.0, 0.8, 1.0)),\n",
      "                                (0.6, (0.0, 0.8, 0.0)),\n",
      "                                (0.8, (1.0, 0.8, 0.0)),\n",
      "                                (1.0, (1.0, 0.0, 0.0))])\n",
      "\n",
      "rcParams['axes.color_cycle'] = mycolors\n",
      "#print mycolors"
     ],
     "language": "python",
     "metadata": {},
     "outputs": [],
     "prompt_number": 2
    },
    {
     "cell_type": "code",
     "collapsed": false,
     "input": [
      "# Check the constants\n",
      "import astropy.constants as const\n",
      "import astropy.units as unit\n",
      "\n",
      "eV = (1.0*unit.eV).cgs.value\n",
      "k = const.k_B.cgs.value\n",
      "h = const.h.cgs.value\n",
      "m_e = const.m_e.cgs.value\n",
      "I_inf = (1.0*unit.rydberg).cgs.value\n",
      "print 'eV, k, h, m_e, I_inf:', eV, k, h, m_e, I_inf\n",
      "\n",
      "tmp = h*h / sqrt((2*pi*m_e)**3) * sqrt(I_inf/k)\n",
      "\n",
      "a = h*h/((2.*pi*m_e)**1.5*np.sqrt(k))\n",
      "b = sqrt(I_inf / k)\n",
      "print tmp\n",
      "print a, b, a/b\n",
      "print h*h / (sqrt((2*pi*m_e)**3) * sqrt(k))"
     ],
     "language": "python",
     "metadata": {},
     "outputs": [
      {
       "output_type": "stream",
       "stream": "stdout",
       "text": [
        "eV, k, h, m_e, I_inf: 1.602176565e-12 1.3806488e-16 6.62606957e-27 9.10938291e-28 2.1798720873e-11\n",
        "4.02886429096e-11\n",
        "8.62913241985e-06 397.350620287 2.17166703141e-08\n",
        "8.62913241985e-06\n"
       ]
      }
     ],
     "prompt_number": 3
    },
    {
     "cell_type": "code",
     "collapsed": false,
     "input": [
      "def load_elvlc(fname):\n",
      "    import fortranformat as ff\n",
      "    fmtstr = 'i3,i6,a15,i3,i3,a3,f4.1,i3,4f15.2'\n",
      "    fortranreader = ff.FortranRecordReader(fmtstr)\n",
      "    d = []\n",
      "    with open(fname, 'r') as f:\n",
      "        for row in f.readlines():\n",
      "            if row.strip() == '-1':\n",
      "                break\n",
      "            items = fortranreader.read(row)\n",
      "            d.append({'idx': items[0],\n",
      "                      'Desig': '%'.join([items[2].strip(),\n",
      "                                         '{:d}'.format(items[3]) + \\\n",
      "                                         items[5].strip() + \\\n",
      "                                         float2frac_str(items[6])]).replace(' ','_'),\n",
      "                      '2S+1': items[3],\n",
      "                      'L': items[4],\n",
      "                      'Lsym': items[5],\n",
      "                      'J': items[6],\n",
      "                      '2J+1': items[7],\n",
      "                      'E(cm-1)': items[8]})\n",
      "    for i in xrange(len(d)):\n",
      "        if d[i]['idx'] != i+1:\n",
      "            raise IndexError('{:s},{:d},{:d}'.format('Index inconsistent!', i+1, d[i]['idx']))\n",
      "    return d\n",
      "\n",
      "\n",
      "def make_a_level_name(lev):\n",
      "    return lev['Desig']\n",
      "\n",
      "def float2frac_str(r):\n",
      "    from fractions import Fraction\n",
      "    a = Fraction(r)\n",
      "    if a.denominator != 1:\n",
      "        return '{:d}/{:d}'.format(a.numerator, a.denominator)\n",
      "    else:\n",
      "        return '{:d}'.format(a.numerator)\n",
      "\n",
      "def load_wgfa(fname):\n",
      "    import fortranformat as ff\n",
      "    fmtstr = '(2i5,f15.3,2e15.3)'\n",
      "    fortranreader = ff.FortranRecordReader(fmtstr)\n",
      "    d = []\n",
      "    with open(fname, 'r') as f:\n",
      "        for row in f.readlines():\n",
      "            if row.strip() == '-1':\n",
      "                break\n",
      "            items = fortranreader.read(row)\n",
      "            d.append({'idx_low': items[0],\n",
      "                      'idx_up': items[1],\n",
      "                      'wavelength_AA': items[2],\n",
      "                      'gf': items[3],\n",
      "                      'A': items[4]})\n",
      "    return d\n",
      "\n",
      "def load_splups(fname, is_prot=False):\n",
      "    import fortranformat as ff\n",
      "    if is_prot:\n",
      "        fmtstr = '(2i5,f15.3,2e15.3)'\n",
      "    else:\n",
      "        fmtstr = '6x,3i3,3e10.3'\n",
      "    fortranreader = ff.FortranRecordReader(fmtstr)\n",
      "    d = []\n",
      "    with open(fname, 'r') as f:\n",
      "        for row in f.readlines():\n",
      "            if row.strip() == '-1':\n",
      "                break\n",
      "            if is_prot:\n",
      "                s1 = row[39:].rstrip()\n",
      "            else:\n",
      "                s1 = row[45:].rstrip()\n",
      "            np = len(s1)/10\n",
      "            items = fortranreader.read(row)\n",
      "            freader1 = ff.FortranRecordReader(str(np) + 'E10.0')\n",
      "            d.append({'idx_low': items[0],\n",
      "                      'idx_up': items[1],\n",
      "                      'ttype': items[2],\n",
      "                      'gf': items[3],\n",
      "                      'dE': items[4],\n",
      "                      'cups': items[5],\n",
      "                      'nspl': np,\n",
      "                      'splups': freader1.read(s1)})\n",
      "    return d"
     ],
     "language": "python",
     "metadata": {},
     "outputs": [],
     "prompt_number": 4
    },
    {
     "cell_type": "code",
     "collapsed": false,
     "input": [
      "import numpy as np\n",
      "from scipy import interpolate\n",
      "import astropy.constants as const\n",
      "import astropy.units as unit\n",
      "\n",
      "eV = (1.0*unit.eV).cgs.value\n",
      "k = const.k_B.cgs.value\n",
      "h = const.h.cgs.value\n",
      "m_e = const.m_e.cgs.value\n",
      "I_inf = (1.0*unit.rydberg).cgs.value\n",
      "c = const.c.cgs.value\n",
      "cm_1_2K = h * c / k\n",
      "\n",
      "def calc_upsilon(T, dE, ttype, cups, nspl, splups):\n",
      "    \"\"\"Calculates the effective collision strengths (upsilon)\n",
      "    for excitation-autoionization as a function of temperature.\"\"\"\n",
      "    #\n",
      "    kte = k*T / (dE*eV)\n",
      "    #\n",
      "    xs = linspace(0.0, 1.0, num=nspl)\n",
      "    y2 = interpolate.splrep(xs, splups, s=0)\n",
      "    #\n",
      "    if ttype ==1:\n",
      "        st=1.-np.log(cups)/np.log(kte+cups)\n",
      "        sups=interpolate.splev(st,y2,der=0)\n",
      "        ups=sups*np.log(kte+np.exp(1.))\n",
      "    if ttype == 2:\n",
      "        st=kte/(kte+cups)\n",
      "        y2=interpolate.splrep(xs,splups,s=0)\n",
      "        sups=interpolate.splev(st,y2,der=0)\n",
      "        ups=sups\n",
      "    if ttype == 3:\n",
      "        st=kte/(kte+cups)\n",
      "        sups=interpolate.splev(st,y2,der=0)\n",
      "        ups=sups/(kte+1.)\n",
      "    if ttype == 4:\n",
      "        st=1.-np.log(cups)/np.log(kte+cups)\n",
      "        sups=interpolate.splev(st,y2,der=0)\n",
      "        ups=sups*np.log(kte+cups)\n",
      "    if ttype == 5:\n",
      "        st=kte/(kte+cups)\n",
      "        sups=interpolate.splev(st,y2,der=0)\n",
      "        ups=sups/(kte+0.)\n",
      "    if ttype == 6:\n",
      "        st=kte/(kte+cups)\n",
      "        sups=interpolate.splev(st,y2,der=der)\n",
      "        ups=10.**sups\n",
      "    elif ttype > 6:\n",
      "        raise ValueError('ttype = {:d} ne 1,2,3,4,5,6!'.format(ttype))\n",
      "    ups=np.where(ups > 0.,ups,0.)\n",
      "    return ups\n",
      "\n",
      "def calc_qij(T, ups_ij):\n",
      "    # CHIANTI manual eq 10\n",
      "    tmp = h*h / (sqrt((2*pi*m_e)**3) * sqrt(k))\n",
      "    return tmp / sqrt(T) * ups_ij\n",
      "\n",
      "def calc_collision_rate(d=None, lvs=None, T=None):\n",
      "    ups_ij = calc_upsilon(T, d['dE'], d['ttype'], d['cups'],\n",
      "                          d['nspl'], d['splups'])\n",
      "    iup = d['idx_up'] - 1\n",
      "    ilow = d['idx_low'] - 1\n",
      "    try:\n",
      "        gu = lvs[iup]['2J+1']\n",
      "        gl = lvs[ilow]['2J+1']\n",
      "    except:\n",
      "        raise IndexError('iup={:d}, ilow={:d}, len(lvs)={:d}'.format(iup, ilow, len(lvs)))\n",
      "    cc_ul = calc_qij(T, ups_ij) / gu\n",
      "    cc_lu = cc_ul * gu / gl * exp(-d['dE']*eV/(k*T))\n",
      "    return cc_ul, cc_lu"
     ],
     "language": "python",
     "metadata": {},
     "outputs": [],
     "prompt_number": 5
    },
    {
     "cell_type": "code",
     "collapsed": false,
     "input": [
      "def save_as_LAMDA(out_dir, ion_symb, mol_weight, T_s,\n",
      "                  d_levels, d_transitions, d_coll_e,\n",
      "                  max_Eup=1e99):\n",
      "    #\n",
      "    ilev_max = 9999999999\n",
      "    #\n",
      "    s_out = []\n",
      "    s_out.append('!Ion\\n')\n",
      "    s_out.append(ion_symb + '\\n')\n",
      "    s_out.append('!MOLECULAR WEIGHT\\n')\n",
      "    s_out.append(str(mol_weight) + '\\n')\n",
      "    s_out.append('!NUMBER OF ENERGY LEVELS\\n')\n",
      "    i_insert = len(s_out)\n",
      "    #s_out.append(str(len(d_levels)) + '\\n')\n",
      "    s_out.append('!LEVEL + ENERGIES(cm^-1) + WEIGHT + Qnum\\n')\n",
      "    #\n",
      "    for i,d in enumerate(d_levels):\n",
      "        E_K = d['E(cm-1)'] * cm_1_2K\n",
      "        if E_K >= max_Eup:\n",
      "            ilev_max = i\n",
      "            print 'Energies higher than ', E_K, ' K are not saved.'\n",
      "            break\n",
      "        s_out.append('{:4d}{:20.7f}{:8.1f}{:>20}\\n'.\\\n",
      "                format(d['idx'],\n",
      "                       d['E(cm-1)'],\n",
      "                       d['2J+1'],\n",
      "                       d['Desig']))\n",
      "    n_levels = len(s_out) - i_insert - 1\n",
      "    s_out.insert(i_insert, str(n_levels) + '\\n')\n",
      "    #\n",
      "    s_out.append('!NUMBER OF RADIATIVE TRANSITIONS\\n')\n",
      "    i_insert = len(s_out)\n",
      "    #s_out.append(str(len(d_transitions)) + '\\n')\n",
      "    s_out.append('!TRANS + UP + LOW + EINSTEINA(s^-1) + FREQ(GHz) + E_u(K)\\n')\n",
      "    i = 0\n",
      "    for d in d_transitions:\n",
      "        iup = d['idx_up'] - 1\n",
      "        if iup >= ilev_max:\n",
      "            continue\n",
      "        i += 1\n",
      "        if d['wavelength_AA'] == 0.0:\n",
      "            freq = c/1e9 * (d_levels[d['idx_up']-1]['E(cm-1)'] - d_levels[d['idx_low']-1]['E(cm-1)'])\n",
      "        else:\n",
      "            freq = c/d['wavelength_AA']*1e8 / 1e9\n",
      "        Eup = d_levels[iup]['E(cm-1)'] * cm_1_2K\n",
      "        s_out.append('{:5d}{:6d}{:6d}{:15.3e}{:15.7e}{:12.3f}\\n'.\\\n",
      "                format(i, d['idx_up'],\n",
      "                       d['idx_low'],\n",
      "                       d['A'], freq, Eup))\n",
      "    n_transitions = i\n",
      "    s_out.insert(i_insert, str(n_transitions) + '\\n')\n",
      "    #\n",
      "    s_out.append('!NUMBER OF COLL PARTNERS\\n')\n",
      "    s_out.append(str(1) + '\\n')\n",
      "    s_out.append('!COLLISIONS BETWEEN\\n')\n",
      "    s_out.append(' '.join(['2', ion_symb, '+', 'e']) + '\\n')\n",
      "    s_out.append('!NUMBER OF COLL TRANS\\n')\n",
      "    i_insert = len(s_out)\n",
      "    #s_out.append(str(len(d_coll_e)) + '\\n')\n",
      "    s_out.append('!NUMBER OF COLL TEMPS\\n')\n",
      "    s_out.append(str(len(T_s)) + '\\n')\n",
      "    s_out.append('!COLL TEMPS\\n')\n",
      "    s_out.append(' '*17 + ''.join(['{:10.2e}'.format(T) for T in T_s]) + '\\n')\n",
      "    s_out.append('!TRANS + UP + LOW + COLLRATES(cm^3 s^-1)\\n')\n",
      "    i = 0\n",
      "    for d in d_coll_e:\n",
      "        iup = d['idx_up'] - 1\n",
      "        if iup >= ilev_max:\n",
      "            continue\n",
      "        i += 1\n",
      "        s = ['{:10.2e}'.format(calc_collision_rate(d=d, lvs=d_levels, T=T)[0]) for T in T_s]\n",
      "        s_out.append('{:5d}{:6d}{:6d}{:s}\\n'.format(i, d['idx_up'], d['idx_low'], ''.join(s)))\n",
      "    n_colls = i\n",
      "    s_out.insert(i_insert, str(n_colls) + '\\n')\n",
      "\n",
      "    with open(os.path.join(out_dir, ion_symb+'.dat'), 'w') as f:\n",
      "        for _ in s_out:\n",
      "            f.write(_)\n",
      "    return"
     ],
     "language": "python",
     "metadata": {},
     "outputs": [],
     "prompt_number": 61
    },
    {
     "cell_type": "code",
     "collapsed": false,
     "input": [
      "def all_together(element=None, ion=None, ion_symb=None, mol_weight=None,\n",
      "                 T_s=None, E_max_in_K=None):\n",
      "    d_levels = load_elvlc(os.path.join(dir_chianti, element, ion, ion + '.elvlc'))\n",
      "    d_transitions = load_wgfa(os.path.join(dir_chianti, element, ion, ion + '.wgfa'))\n",
      "    d_coll_e = load_splups(os.path.join(dir_chianti, element, ion, ion + '.splups'))\n",
      "    save_as_LAMDA(out_dir, ion_symb, mol_weight, T_s, d_levels, d_transitions, d_coll_e, max_Eup=E_max_in_K)\n",
      "    return"
     ],
     "language": "python",
     "metadata": {},
     "outputs": [],
     "prompt_number": 27
    },
    {
     "cell_type": "code",
     "collapsed": false,
     "input": [
      "dir_chianti = '/Users/fdu/not_synced/work/from_others/CHIANTI/CHIANTI_7.1.4_data/'\n",
      "out_dir = '/Users/fdu/not_synced/work/from_others/CHIANTI/toLAMDA/'\n",
      "n_T = 16"
     ],
     "language": "python",
     "metadata": {},
     "outputs": [],
     "prompt_number": 28
    },
    {
     "cell_type": "code",
     "collapsed": false,
     "input": [
      "all_together(element = 'c',\n",
      "             ion = 'c_2',\n",
      "             ion_symb = 'C+',\n",
      "             mol_weight = 12.0,\n",
      "             T_s = logspace(1, 4, num=n_T),\n",
      "             E_max_in_K = 1e5)"
     ],
     "language": "python",
     "metadata": {},
     "outputs": [
      {
       "output_type": "stream",
       "stream": "stdout",
       "text": [
        "Energies higher than  107811.327207  K are not saved.\n"
       ]
      }
     ],
     "prompt_number": 49
    },
    {
     "cell_type": "code",
     "collapsed": false,
     "input": [
      "all_together(element = 'fe',\n",
      "             ion = 'fe_2',\n",
      "             ion_symb = 'Fe+',\n",
      "             mol_weight = 56.0,\n",
      "             T_s = logspace(1, 4, num=n_T),\n",
      "             E_max_in_K = 1e4)"
     ],
     "language": "python",
     "metadata": {},
     "outputs": [
      {
       "output_type": "stream",
       "stream": "stdout",
       "text": [
        "Energies higher than  11445.900911  K are not saved.\n"
       ]
      }
     ],
     "prompt_number": 50
    },
    {
     "cell_type": "code",
     "collapsed": false,
     "input": [
      "all_together(element = 'si',\n",
      "             ion = 'si_2',\n",
      "             ion_symb = 'Si+',\n",
      "             mol_weight = 28.0,\n",
      "             T_s = logspace(1, 4, num=n_T),\n",
      "             E_max_in_K = 1e5)"
     ],
     "language": "python",
     "metadata": {},
     "outputs": [
      {
       "output_type": "stream",
       "stream": "stdout",
       "text": [
        "Energies higher than  110304.339209  K are not saved.\n"
       ]
      }
     ],
     "prompt_number": 51
    },
    {
     "cell_type": "code",
     "collapsed": false,
     "input": [
      "all_together(element = 's',\n",
      "             ion = 's_2',\n",
      "             ion_symb = 'S+',\n",
      "             mol_weight = 32.0,\n",
      "             T_s = logspace(1, 4, num=n_T),\n",
      "             E_max_in_K = 1e5)"
     ],
     "language": "python",
     "metadata": {},
     "outputs": [
      {
       "output_type": "stream",
       "stream": "stdout",
       "text": [
        "Energies higher than  115048.360928  K are not saved.\n"
       ]
      }
     ],
     "prompt_number": 52
    },
    {
     "cell_type": "code",
     "collapsed": false,
     "input": [
      "all_together(element = 'mg',\n",
      "             ion = 'mg_2',\n",
      "             ion_symb = 'Mg+',\n",
      "             mol_weight = 24.0,\n",
      "             T_s = logspace(1, 4, num=n_T),\n",
      "             E_max_in_K = 1e5)"
     ],
     "language": "python",
     "metadata": {},
     "outputs": [
      {
       "output_type": "stream",
       "stream": "stdout",
       "text": [
        "Energies higher than  100433.753753  K are not saved.\n"
       ]
      }
     ],
     "prompt_number": 53
    },
    {
     "cell_type": "code",
     "collapsed": false,
     "input": [
      "all_together(element = 'n',\n",
      "             ion = 'n_2',\n",
      "             ion_symb = 'N+',\n",
      "             mol_weight = 14.0,\n",
      "             T_s = logspace(1, 4, num=n_T),\n",
      "             E_max_in_K = 1e5)"
     ],
     "language": "python",
     "metadata": {},
     "outputs": [
      {
       "output_type": "stream",
       "stream": "stdout",
       "text": [
        "Energies higher than  132708.758213  K are not saved.\n"
       ]
      }
     ],
     "prompt_number": 54
    },
    {
     "cell_type": "code",
     "collapsed": false,
     "input": [
      "all_together(element = 'o',\n",
      "             ion = 'o_2',\n",
      "             ion_symb = 'O+',\n",
      "             mol_weight = 16.0,\n",
      "             T_s = logspace(1, 4, num=n_T),\n",
      "             E_max_in_K = 1e5)"
     ],
     "language": "python",
     "metadata": {},
     "outputs": [
      {
       "output_type": "stream",
       "stream": "stdout",
       "text": [
        "Energies higher than  172419.016697  K are not saved.\n"
       ]
      }
     ],
     "prompt_number": 55
    },
    {
     "cell_type": "code",
     "collapsed": false,
     "input": [
      "all_together(element = 'he',\n",
      "             ion = 'he_2',\n",
      "             ion_symb = 'He+',\n",
      "             mol_weight = 4.0,\n",
      "             T_s = logspace(1, 4, num=n_T),\n",
      "             E_max_in_K = 1e6)"
     ],
     "language": "python",
     "metadata": {},
     "outputs": [],
     "prompt_number": 63
    },
    {
     "cell_type": "code",
     "collapsed": false,
     "input": [
      "all_together(element = 'ne',\n",
      "             ion = 'ne_2',\n",
      "             ion_symb = 'Ne+',\n",
      "             mol_weight = 20.18,\n",
      "             T_s = logspace(1, 4, num=n_T),\n",
      "             E_max_in_K = 1e5)"
     ],
     "language": "python",
     "metadata": {},
     "outputs": [
      {
       "output_type": "stream",
       "stream": "stdout",
       "text": [
        "Energies higher than  312283.100488  K are not saved.\n"
       ]
      }
     ],
     "prompt_number": 64
    },
    {
     "cell_type": "code",
     "collapsed": false,
     "input": [
      "all_together(element = 'ar',\n",
      "             ion = 'ar_3',\n",
      "             ion_symb = 'Ar++',\n",
      "             mol_weight = 39.95,\n",
      "             T_s = logspace(1, 4, num=n_T),\n",
      "             E_max_in_K = 1e5)"
     ],
     "language": "python",
     "metadata": {},
     "outputs": [],
     "prompt_number": 66
    },
    {
     "cell_type": "code",
     "collapsed": false,
     "input": [
      "all_together(element = 'k',\n",
      "             ion = 'k_5',\n",
      "             ion_symb = 'K+4',\n",
      "             mol_weight = 39.1,\n",
      "             T_s = logspace(1, 4, num=n_T),\n",
      "             E_max_in_K = 1e5)"
     ],
     "language": "python",
     "metadata": {},
     "outputs": [],
     "prompt_number": 67
    },
    {
     "cell_type": "markdown",
     "metadata": {},
     "source": [
      "-------------------------------\n",
      "##End of the main part.\n",
      "-------------------------------"
     ]
    },
    {
     "cell_type": "code",
     "collapsed": false,
     "input": [
      "print calc_collision_rate(d=d_coll_e[0], lvs=d_levels, T=1e2)\n",
      "print calc_collision_rate(d=d_coll_e[0], lvs=d_levels, T=1e3)\n",
      "print calc_collision_rate(d=d_coll_e[0], lvs=d_levels, T=1e4)"
     ],
     "language": "python",
     "metadata": {},
     "outputs": [
      {
       "output_type": "stream",
       "stream": "stdout",
       "text": [
        "(3.4182735139066842e-12, 1.8194364938971779e-12)\n",
        "(8.7031242056863366e-13, 6.6845038690270821e-13)\n",
        "(1.8815426899773643e-13, 1.4991133249613979e-13)\n"
       ]
      }
     ],
     "prompt_number": 176
    },
    {
     "cell_type": "code",
     "collapsed": false,
     "input": [
      "# Using the astropy.constants make the code much much slower\n",
      "\n",
      "def calc_upsilon(T, dE, ttype, cups, nspl, splups):\n",
      "    \"\"\"Calculates the effective collision strengths (upsilon)\n",
      "    for excitation-autoionization as a function of temperature.\"\"\"\n",
      "    import numpy as np\n",
      "    from scipy import interpolate\n",
      "    import astropy.constants as const\n",
      "    import astropy.units as unit\n",
      "    eV = (1.0*unit.eV).cgs.value\n",
      "    k = const.k_B.cgs.value\n",
      "    #eV = 1.602176565e-12\n",
      "    #k = 1.3806488e-16\n",
      "    #\n",
      "    kte = k*T / (dE*eV)\n",
      "    #\n",
      "    xs = linspace(0.0, 1.0, num=nspl)\n",
      "    y2 = interpolate.splrep(xs, splups, s=0)\n",
      "    #\n",
      "    if ttype ==1:\n",
      "        st=1.-np.log(cups)/np.log(kte+cups)\n",
      "        sups=interpolate.splev(st,y2,der=0)\n",
      "        ups=sups*np.log(kte+np.exp(1.))\n",
      "    if ttype == 2:\n",
      "        st=kte/(kte+cups)\n",
      "        y2=interpolate.splrep(xs,splups,s=0)\n",
      "        sups=interpolate.splev(st,y2,der=0)\n",
      "        ups=sups\n",
      "    if ttype == 3:\n",
      "        st=kte/(kte+cups)\n",
      "        sups=interpolate.splev(st,y2,der=0)\n",
      "        ups=sups/(kte+1.)\n",
      "    if ttype == 4:\n",
      "        st=1.-np.log(cups)/np.log(kte+cups)\n",
      "        sups=interpolate.splev(st,y2,der=0)\n",
      "        ups=sups*np.log(kte+cups)\n",
      "    if ttype == 5:\n",
      "        st=kte/(kte+cups)\n",
      "        sups=interpolate.splev(st,y2,der=0)\n",
      "        ups=sups/(kte+0.)\n",
      "    if ttype == 6:\n",
      "        st=kte/(kte+cups)\n",
      "        sups=interpolate.splev(st,y2,der=der)\n",
      "        ups=10.**sups\n",
      "    elif ttype > 6:\n",
      "        raise ValueError('ttype = {:d} ne 1,2,3,4,5,6!'.format(ttype))\n",
      "    ups=np.where(ups > 0.,ups,0.)\n",
      "    return ups\n",
      "\n",
      "def calc_qij(T, ups_ij):\n",
      "    # CHIANTI manual eq 10\n",
      "    import astropy.constants as const\n",
      "    import astropy.units as unit\n",
      "    eV = (1.0*unit.eV).cgs.value\n",
      "    k = const.k_B.cgs.value\n",
      "    h = const.h.cgs.value\n",
      "    m_e = const.m_e.cgs.value\n",
      "    I_inf = (1.0*unit.rydberg).cgs.value\n",
      "#     eV = 1.602176565e-12\n",
      "#     k = 1.3806488e-16\n",
      "#     h = 6.62606957e-27\n",
      "#     m_e = 9.10938291e-28\n",
      "#     I_inf = 2.1798720873e-11\n",
      "\n",
      "    #\n",
      "    tmp = h*h / (sqrt((2*pi*m_e)**3) * sqrt(k))\n",
      "    return tmp / sqrt(T) * ups_ij\n",
      "\n",
      "def calc_collision_rate(d=None, lvs=None, T=None):\n",
      "    import astropy.units as unit\n",
      "    eV = (1.0*unit.eV).cgs.value\n",
      "    #eV = 1.602176565e-12\n",
      "    #\n",
      "    ups_ij = calc_upsilon(T, d['dE'], d['ttype'], d['cups'],\n",
      "                          d['nspl'], d['splups'])\n",
      "    iup = d['idx_up'] - 1\n",
      "    ilow = d['idx_low'] - 1\n",
      "    try:\n",
      "        gu = lvs[iup]['2J+1']\n",
      "        gl = lvs[ilow]['2J+1']\n",
      "    except:\n",
      "        raise IndexError('iup={:d}, ilow={:d}, len(lvs)={:d}'.format(iup, ilow, len(lvs)))\n",
      "    cc_ul = calc_qij(T, ups_ij) / gu\n",
      "    cc_lu = cc_ul * gu / gl * exp(-d['dE']*eV/(k*T))\n",
      "    return cc_ul, cc_lu"
     ],
     "language": "python",
     "metadata": {},
     "outputs": [],
     "prompt_number": 29
    },
    {
     "cell_type": "code",
     "collapsed": false,
     "input": [
      "%time\n",
      "a = const.k_B.cgs.value**2\n",
      "\n",
      "%time\n",
      "a = 1.3806488e-16**2"
     ],
     "language": "python",
     "metadata": {},
     "outputs": [
      {
       "output_type": "stream",
       "stream": "stdout",
       "text": [
        "CPU times: user 3 \u00b5s, sys: 1e+03 ns, total: 4 \u00b5s\n",
        "Wall time: 7.15 \u00b5s\n",
        "CPU times: user 2 \u00b5s, sys: 0 ns, total: 2 \u00b5s\n",
        "Wall time: 5.96 \u00b5s\n"
       ]
      }
     ],
     "prompt_number": 24
    },
    {
     "cell_type": "code",
     "collapsed": false,
     "input": [
      "import cProfile"
     ],
     "language": "python",
     "metadata": {},
     "outputs": [],
     "prompt_number": 25
    },
    {
     "cell_type": "code",
     "collapsed": false,
     "input": [
      "cProfile.run('save_as_LAMDA(out_dir, ion_symb, mol_weight, T_s, d_levels, d_transitions, d_coll_e)', sort='tottime')"
     ],
     "language": "python",
     "metadata": {},
     "outputs": [
      {
       "output_type": "stream",
       "stream": "stdout",
       "text": [
        "         161503666 function calls (157828946 primitive calls) in 134.242 seconds\n",
        "\n",
        "   Ordered by: internal time\n",
        "\n",
        "   ncalls  tottime  percall  cumtime  percall filename:lineno(function)\n",
        "2858720/1857760   23.949    0.000   76.602    0.000 core.py:1923(_expand_and_gather)\n",
        " 42766560   10.467    0.000   18.675    0.000 {isinstance}\n",
        "2858720/1857760   10.419    0.000   95.965    0.000 core.py:1872(__init__)\n",
        "  1909440    5.866    0.000   40.426    0.000 core.py:498(_get_physical_type_id)\n",
        "  2953920    5.194    0.000    5.194    0.000 utils.py:118(is_effectively_unity)\n",
        "  4052800    5.084    0.000   16.694    0.000 core.py:614(_validate_power)\n",
        "  4107200    4.866    0.000    8.208    0.000 abc.py:128(__instancecheck__)\n",
        "  2945760    4.151    0.000   13.318    0.000 {method 'sort' of 'list' objects}\n",
        "  6854400    4.087    0.000    4.087    0.000 {zip}\n",
        "  6446400    3.920    0.000    3.920    0.000 core.py:1924(add_unit)\n",
        " 12150240    3.817    0.000    4.948    0.000 {getattr}\n",
        "3231360/2801600    3.813    0.000   46.546    0.000 core.py:1969(decompose)\n",
        "    21760    3.612    0.000    5.917    0.000 core.py:1115(filter_units)\n",
        "    21760    3.544    0.000   76.630    0.004 core.py:951(_compose)\n",
        "1506880/707200    3.412    0.000   55.310    0.000 core.py:1570(decompose)\n",
        "  4618560    2.795    0.000    2.795    0.000 _weakrefset.py:68(__contains__)\n",
        "  5097280    2.536    0.000    6.280    0.000 core.py:1953(<lambda>)\n",
        "  2858720    2.532    0.000    4.020    0.000 six.py:437(iteritems)\n",
        "   954720    2.500    0.000   43.424    0.000 core.py:760(_is_equivalent)\n",
        "   614720    2.484    0.000    3.966    0.000 core.py:1656(__call__)\n",
        "582080/560320    1.835    0.000   24.733    0.000 core.py:636(__div__)\n",
        "   489600    1.593    0.000   21.735    0.000 core.py:663(__mul__)\n",
        "  7161760    1.520    0.000    1.520    0.000 core.py:1477(name)\n",
        "  1444320    1.483    0.000    4.098    0.000 core.py:2004(is_unity)\n",
        "  8315040    1.422    0.000    1.422    0.000 core.py:1909(bases)\n",
        "   440640    1.149    0.000   29.216    0.000 core.py:727(is_equivalent)\n",
        " 10704292    1.134    0.000    1.134    0.000 {len}\n",
        "   522240    0.845    0.000    1.864    0.000 core.py:587(_normalize_equivalencies)\n",
        "   108800    0.793    0.000    0.793    0.000 {method 'reduce' of 'numpy.ufunc' objects}\n",
        "  5015680    0.785    0.000    0.785    0.000 core.py:1916(powers)\n",
        "  3255840    0.628    0.000    0.628    0.000 core.py:1902(scale)\n",
        "862240/481440    0.539    0.000   39.985    0.000 core.py:1831(decompose)\n",
        "    21760    0.531    0.000    1.744    0.000 numeric.py:2056(allclose)\n",
        "   522240    0.528    0.000    0.528    0.000 core.py:68(_normalize_equivalencies)\n",
        "  2858720    0.523    0.000    0.523    0.000 {method 'iteritems' of 'dict' objects}\n",
        "    54400    0.506    0.000    2.799    0.000 quantity.py:135(__new__)\n",
        "   478720    0.480    0.000    0.571    0.000 core.py:959(is_final_result)\n",
        "  2934880    0.435    0.000    0.435    0.000 {iter}\n",
        "   522240    0.363    0.000    0.363    0.000 core.py:215(equivalencies)\n",
        "   560320    0.349    0.000   25.081    0.000 core.py:657(__truediv__)\n",
        "    32640    0.335    0.000    0.896    0.000 quantity.py:170(__array_prepare__)\n",
        "    21760    0.306    0.000    1.207    0.000 quantity.py:598(__div__)\n",
        "   178432    0.299    0.000    0.299    0.000 {numpy.core.multiarray.array}\n",
        "    54400    0.273    0.000    0.574    0.000 quantity.py:38(_validate_value)\n",
        "    59840    0.255    0.000    7.178    0.000 core.py:842(get_converter)\n",
        "429760/388960    0.252    0.000    0.984    0.000 core.py:1835(is_unity)\n",
        "    21760    0.224    0.000   86.065    0.004 core.py:1075(compose)\n",
        "   130560    0.214    0.000    3.309    0.000 core.py:633(__pow__)\n",
        "    21760    0.191    0.000    0.498    0.000 core.py:1150(<lambda>)\n",
        "    21760    0.175    0.000  132.401    0.006 quantity.py:488(cgs)\n",
        "    21760    0.170    0.000    0.183    0.000 core.py:953(make_key)\n",
        "  1000960    0.165    0.000    0.331    0.000 {method 'add' of 'set' objects}\n",
        "    54400    0.161    0.000    0.222    0.000 {built-in method __new__ of type object at 0x100180f20}\n",
        "    43520    0.155    0.000    0.657    0.000 fromnumeric.py:1621(sum)\n",
        "    21760    0.151    0.000    0.165    0.000 core.py:1896(__hash__)\n",
        "    59840    0.146    0.000    7.711    0.000 core.py:885(to)\n",
        "    54400    0.142    0.000    0.171    0.000 misc.py:212(isiterable)\n",
        "    10880    0.142    0.000    0.572    0.000 quantity.py:574(__mul__)\n",
        "    21760    0.138    0.000  128.094    0.006 core.py:1221(cgs)\n",
        "    21760    0.137    0.000    0.142    0.000 core.py:1149(<lambda>)\n",
        "    87040    0.133    0.000    0.221    0.000 quantity.py:447(value)\n",
        "    21760    0.129    0.000  127.956    0.006 core.py:1167(to_system)\n",
        "   522240    0.129    0.000    0.129    0.000 core.py:274(get_current_unit_registry)\n",
        "    21760    0.128    0.000    3.139    0.000 core.py:1139(sort_results)\n",
        "    32640    0.128    0.000    0.128    0.000 {method 'format' of 'unicode' objects}\n",
        "   119680    0.120    0.000    0.150    0.000 {method 'view' of 'numpy.ndarray' objects}\n",
        "    65280    0.119    0.000    0.320    0.000 {hasattr}\n",
        "    43520    0.116    0.000    0.257    0.000 numeric.py:2320(seterr)\n",
        "     2720    0.116    0.000   81.016    0.030 <ipython-input-29-40d7dbfb50f7>:50(calc_qij)\n",
        "     2720    0.110    0.000   35.945    0.013 <ipython-input-29-40d7dbfb50f7>:3(calc_upsilon)\n",
        "    59840    0.107    0.000    4.100    0.000 core.py:1989(_dimensionless_constant)\n",
        "   469472    0.094    0.000    0.094    0.000 {method 'append' of 'list' objects}\n",
        "    43520    0.089    0.000    0.095    0.000 numeric.py:2416(geterr)\n",
        "   119680    0.077    0.000    0.129    0.000 quantity.py:166(__array_finalize__)\n",
        "    10880    0.073    0.000    0.997    0.000 core.py:678(__rmul__)\n",
        "    32640    0.073    0.000    0.201    0.000 quantity.py:541(__getattr__)\n",
        "    21760    0.073    0.000    1.821    0.000 core.py:1152(<lambda>)\n",
        "     4896    0.072    0.000    0.190    0.000 fitpack.py:320(splrep)\n",
        "     2720    0.070    0.000    0.070    0.000 {numpy.core.multiarray.where}\n",
        "     2720    0.067    0.000  134.176    0.049 <ipython-input-29-40d7dbfb50f7>:69(calc_collision_rate)\n",
        "    21760    0.067    0.000    0.426    0.000 core.py:1151(<lambda>)\n",
        "    21760    0.067    0.000    0.078    0.000 core.py:1191(score)\n",
        "    77792    0.066    0.000    0.162    0.000 numeric.py:462(asanyarray)\n",
        "    21760    0.065    0.000    0.144    0.000 {sorted}\n",
        "    43520    0.065    0.000    0.065    0.000 {abs}\n",
        "    32640    0.062    0.000    0.382    0.000 quantity.py:298(__array_wrap__)\n",
        "    10880    0.057    0.000    0.994    0.000 constant.py:36(wrapper)\n",
        "    65280    0.057    0.000    0.106    0.000 {any}\n",
        "    43520    0.056    0.000    0.470    0.000 fromnumeric.py:1762(any)\n",
        "    43520    0.055    0.000    0.475    0.000 _methods.py:23(_sum)\n",
        "    10880    0.050    0.000   64.459    0.006 constant.py:184(cgs)\n",
        "    21760    0.046    0.000    0.173    0.000 quantity_helper.py:175(<lambda>)\n",
        "    59840    0.045    0.000    0.055    0.000 core.py:2169(_condition_arg)\n",
        "     2720    0.042    0.000    0.050    0.000 function_base.py:8(linspace)\n",
        "    43520    0.042    0.000    0.289    0.000 _methods.py:31(_any)\n",
        "    43520    0.041    0.000    0.330    0.000 {method 'any' of 'numpy.ndarray' objects}\n",
        "    59840    0.037    0.000    0.092    0.000 core.py:883(<lambda>)\n",
        "   130560    0.037    0.000    0.037    0.000 quantity.py:456(unit)\n",
        "    21760    0.033    0.000    1.761    0.000 quantity.py:396(__quantity_instance__)\n",
        "    43520    0.032    0.000    0.032    0.000 {numpy.core.umath.seterrobj}\n",
        "    21760    0.030    0.000    0.248    0.000 fromnumeric.py:1842(all)\n",
        "    12512    0.029    0.000    0.075    0.000 shape_base.py:8(atleast_1d)\n",
        "    21760    0.028    0.000    0.142    0.000 numeric.py:2710(__exit__)\n",
        "    21760    0.027    0.000    0.170    0.000 numeric.py:2705(__enter__)\n",
        "    97920    0.026    0.000    0.026    0.000 quantity.py:208(<genexpr>)\n",
        "    21760    0.026    0.000    0.032    0.000 numeric.py:2701(__init__)\n",
        "    21760    0.026    0.000    0.152    0.000 _methods.py:35(_all)\n",
        "    19584    0.024    0.000    0.024    0.000 {numpy.core.multiarray.empty}\n",
        "    87040    0.023    0.000    0.023    0.000 {method 'item' of 'numpy.ndarray' objects}\n",
        "    97920    0.022    0.000    0.022    0.000 quantity.py:275(<genexpr>)\n",
        "    21760    0.022    0.000    0.033    0.000 six.py:433(itervalues)\n",
        "    10880    0.022    0.000    0.087    0.000 quantity_helper.py:172(<lambda>)\n",
        "        1    0.022    0.022    0.022    0.022 {open}\n",
        "    32640    0.022    0.000    0.107    0.000 quantity.py:375(__quantity_view__)\n",
        "    21760    0.021    0.000    0.173    0.000 {method 'all' of 'numpy.ndarray' objects}\n",
        "    21760    0.020    0.000    1.227    0.000 quantity.py:624(__truediv__)\n",
        "    87040    0.020    0.000    0.020    0.000 {numpy.core.umath.geterrobj}\n",
        "     2720    0.019    0.000    0.055    0.000 fitpack.py:515(splev)\n",
        "     3099    0.019    0.000    0.019    0.000 {method 'format' of 'str' objects}\n",
        "    84320    0.019    0.000    0.019    0.000 core.py:1346(is_unity)\n",
        "    65280    0.016    0.000    0.016    0.000 quantity_helper.py:8(_d)\n",
        "     4896    0.015    0.000    0.015    0.000 {numpy.core.multiarray.copyto}\n",
        "    10880    0.015    0.000    0.015    0.000 misc.py:271(__get__)\n",
        "      384    0.014    0.000    0.014    0.000 {method 'write' of 'file' objects}\n",
        "    32640    0.014    0.000    0.014    0.000 {method 'get' of 'dict' objects}\n",
        "    21760    0.014    0.000    0.014    0.000 {vars}\n",
        "    21760    0.013    0.000    0.016    0.000 inspect.py:51(ismodule)\n",
        "     4896    0.012    0.000    0.068    0.000 {map}\n",
        "    21760    0.012    0.000    0.012    0.000 {method 'lower' of 'unicode' objects}\n",
        "    21760    0.011    0.000    0.011    0.000 constant.py:142(name)\n",
        "        1    0.011    0.011  134.242  134.242 <ipython-input-6-8214bb6afc08>:1(save_as_LAMDA)\n",
        "    10880    0.010    0.000    0.582    0.000 quantity.py:591(__rmul__)\n",
        "     5440    0.009    0.000    0.009    0.000 {method 'reshape' of 'numpy.ndarray' objects}\n",
        "     2720    0.008    0.000    0.008    0.000 {numpy.core.multiarray.arange}\n",
        "     2720    0.008    0.000    0.008    0.000 {scipy.interpolate._fitpack._spl_}\n",
        "    21760    0.008    0.000    0.008    0.000 {hash}\n",
        "     4896    0.007    0.000    0.032    0.000 numeric.py:136(ones)\n",
        "    21760    0.006    0.000    0.006    0.000 {method 'pop' of 'dict' objects}\n",
        "    10880    0.005    0.000    0.005    0.000 constant.py:166(system)\n",
        "    21760    0.004    0.000    0.004    0.000 {method 'itervalues' of 'dict' objects}\n",
        "     4896    0.003    0.000    0.003    0.000 {max}\n",
        "     2720    0.002    0.000    0.007    0.000 numeric.py:392(asarray)\n",
        "      172    0.000    0.000    0.000    0.000 {method 'join' of 'str' objects}\n",
        "        1    0.000    0.000  134.242  134.242 <string>:1(<module>)\n",
        "        1    0.000    0.000    0.000    0.000 posixpath.py:68(join)\n",
        "        1    0.000    0.000    0.000    0.000 {method 'startswith' of 'str' objects}\n",
        "        1    0.000    0.000    0.000    0.000 {method 'disable' of '_lsprof.Profiler' objects}\n",
        "        1    0.000    0.000    0.000    0.000 {method 'endswith' of 'str' objects}\n",
        "\n",
        "\n"
       ]
      }
     ],
     "prompt_number": 31
    },
    {
     "cell_type": "code",
     "collapsed": false,
     "input": [
      "const.k_B.cgs??"
     ],
     "language": "python",
     "metadata": {},
     "outputs": [],
     "prompt_number": 41
    },
    {
     "cell_type": "code",
     "collapsed": false,
     "input": [
      "const.m_e??"
     ],
     "language": "python",
     "metadata": {},
     "outputs": [],
     "prompt_number": 50
    },
    {
     "cell_type": "code",
     "collapsed": false,
     "input": [
      "print 1.0/63.42 * 1e4, 1.0/63.395087 * 1e4"
     ],
     "language": "python",
     "metadata": {},
     "outputs": [
      {
       "output_type": "stream",
       "stream": "stdout",
       "text": [
        "157.678965626 157.740930303\n"
       ]
      }
     ],
     "prompt_number": 64
    },
    {
     "cell_type": "code",
     "collapsed": false,
     "input": [],
     "language": "python",
     "metadata": {},
     "outputs": []
    }
   ],
   "metadata": {}
  }
 ]
}